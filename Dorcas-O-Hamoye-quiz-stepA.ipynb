{
 "cells": [
  {
   "cell_type": "code",
   "execution_count": 1,
   "id": "known-world",
   "metadata": {},
   "outputs": [],
   "source": [
    "import pandas as pd\n",
    "import numpy as np"
   ]
  },
  {
   "cell_type": "code",
   "execution_count": 2,
   "id": "responsible-video",
   "metadata": {},
   "outputs": [],
   "source": [
    "df = pd.read_csv('FoodBalanceSheets_E_Africa_NOFLAG.csv')"
   ]
  },
  {
   "cell_type": "code",
   "execution_count": 3,
   "id": "twelve-soccer",
   "metadata": {},
   "outputs": [
    {
     "data": {
      "text/html": [
       "<div>\n",
       "<style scoped>\n",
       "    .dataframe tbody tr th:only-of-type {\n",
       "        vertical-align: middle;\n",
       "    }\n",
       "\n",
       "    .dataframe tbody tr th {\n",
       "        vertical-align: top;\n",
       "    }\n",
       "\n",
       "    .dataframe thead th {\n",
       "        text-align: right;\n",
       "    }\n",
       "</style>\n",
       "<table border=\"1\" class=\"dataframe\">\n",
       "  <thead>\n",
       "    <tr style=\"text-align: right;\">\n",
       "      <th></th>\n",
       "      <th>Area Code</th>\n",
       "      <th>Area</th>\n",
       "      <th>Item Code</th>\n",
       "      <th>Item</th>\n",
       "      <th>Element Code</th>\n",
       "      <th>Element</th>\n",
       "      <th>Unit</th>\n",
       "      <th>Y2014</th>\n",
       "      <th>Y2015</th>\n",
       "      <th>Y2016</th>\n",
       "      <th>Y2017</th>\n",
       "      <th>Y2018</th>\n",
       "    </tr>\n",
       "  </thead>\n",
       "  <tbody>\n",
       "    <tr>\n",
       "      <th>0</th>\n",
       "      <td>4</td>\n",
       "      <td>Algeria</td>\n",
       "      <td>2501</td>\n",
       "      <td>Population</td>\n",
       "      <td>511</td>\n",
       "      <td>Total Population - Both sexes</td>\n",
       "      <td>1000 persons</td>\n",
       "      <td>38924.00</td>\n",
       "      <td>39728.00</td>\n",
       "      <td>40551.00</td>\n",
       "      <td>41389.00</td>\n",
       "      <td>42228.00</td>\n",
       "    </tr>\n",
       "    <tr>\n",
       "      <th>1</th>\n",
       "      <td>4</td>\n",
       "      <td>Algeria</td>\n",
       "      <td>2501</td>\n",
       "      <td>Population</td>\n",
       "      <td>5301</td>\n",
       "      <td>Domestic supply quantity</td>\n",
       "      <td>1000 tonnes</td>\n",
       "      <td>0.00</td>\n",
       "      <td>0.00</td>\n",
       "      <td>0.00</td>\n",
       "      <td>0.00</td>\n",
       "      <td>0.00</td>\n",
       "    </tr>\n",
       "    <tr>\n",
       "      <th>2</th>\n",
       "      <td>4</td>\n",
       "      <td>Algeria</td>\n",
       "      <td>2901</td>\n",
       "      <td>Grand Total</td>\n",
       "      <td>664</td>\n",
       "      <td>Food supply (kcal/capita/day)</td>\n",
       "      <td>kcal/capita/day</td>\n",
       "      <td>3377.00</td>\n",
       "      <td>3379.00</td>\n",
       "      <td>3372.00</td>\n",
       "      <td>3341.00</td>\n",
       "      <td>3322.00</td>\n",
       "    </tr>\n",
       "    <tr>\n",
       "      <th>3</th>\n",
       "      <td>4</td>\n",
       "      <td>Algeria</td>\n",
       "      <td>2901</td>\n",
       "      <td>Grand Total</td>\n",
       "      <td>674</td>\n",
       "      <td>Protein supply quantity (g/capita/day)</td>\n",
       "      <td>g/capita/day</td>\n",
       "      <td>94.90</td>\n",
       "      <td>94.35</td>\n",
       "      <td>94.72</td>\n",
       "      <td>92.82</td>\n",
       "      <td>91.83</td>\n",
       "    </tr>\n",
       "    <tr>\n",
       "      <th>4</th>\n",
       "      <td>4</td>\n",
       "      <td>Algeria</td>\n",
       "      <td>2901</td>\n",
       "      <td>Grand Total</td>\n",
       "      <td>684</td>\n",
       "      <td>Fat supply quantity (g/capita/day)</td>\n",
       "      <td>g/capita/day</td>\n",
       "      <td>80.06</td>\n",
       "      <td>79.36</td>\n",
       "      <td>77.40</td>\n",
       "      <td>80.19</td>\n",
       "      <td>77.28</td>\n",
       "    </tr>\n",
       "  </tbody>\n",
       "</table>\n",
       "</div>"
      ],
      "text/plain": [
       "   Area Code     Area  Item Code         Item  Element Code  \\\n",
       "0          4  Algeria       2501   Population           511   \n",
       "1          4  Algeria       2501   Population          5301   \n",
       "2          4  Algeria       2901  Grand Total           664   \n",
       "3          4  Algeria       2901  Grand Total           674   \n",
       "4          4  Algeria       2901  Grand Total           684   \n",
       "\n",
       "                                  Element             Unit     Y2014  \\\n",
       "0           Total Population - Both sexes     1000 persons  38924.00   \n",
       "1                Domestic supply quantity      1000 tonnes      0.00   \n",
       "2           Food supply (kcal/capita/day)  kcal/capita/day   3377.00   \n",
       "3  Protein supply quantity (g/capita/day)     g/capita/day     94.90   \n",
       "4      Fat supply quantity (g/capita/day)     g/capita/day     80.06   \n",
       "\n",
       "      Y2015     Y2016     Y2017     Y2018  \n",
       "0  39728.00  40551.00  41389.00  42228.00  \n",
       "1      0.00      0.00      0.00      0.00  \n",
       "2   3379.00   3372.00   3341.00   3322.00  \n",
       "3     94.35     94.72     92.82     91.83  \n",
       "4     79.36     77.40     80.19     77.28  "
      ]
     },
     "execution_count": 3,
     "metadata": {},
     "output_type": "execute_result"
    }
   ],
   "source": [
    "df.head()"
   ]
  },
  {
   "cell_type": "markdown",
   "id": "complicated-indication",
   "metadata": {},
   "source": [
    "Answer the following questions based on the African food production dataset provided by the FAO website already provided\n",
    "\n",
    "What is the total sum of Animal Fat produced in 2014 and 2017 respectively?\n"
   ]
  },
  {
   "cell_type": "code",
   "execution_count": 4,
   "id": "worldwide-change",
   "metadata": {
    "scrolled": true
   },
   "outputs": [
    {
     "data": {
      "text/plain": [
       "Y2014    209460.54\n",
       "Y2017    269617.53\n",
       "Name: Animal fats, dtype: float64"
      ]
     },
     "execution_count": 4,
     "metadata": {},
     "output_type": "execute_result"
    }
   ],
   "source": [
    "df.groupby('Item').sum().head(10).loc['Animal fats', ['Y2014','Y2017']]"
   ]
  },
  {
   "cell_type": "markdown",
   "id": "labeled-viking",
   "metadata": {},
   "source": [
    "What is the mean and standard deviation across the whole dataset for the year 2015 to 3 decimal places?"
   ]
  },
  {
   "cell_type": "code",
   "execution_count": 5,
   "id": "dependent-starter",
   "metadata": {},
   "outputs": [
    {
     "data": {
      "text/html": [
       "<div>\n",
       "<style scoped>\n",
       "    .dataframe tbody tr th:only-of-type {\n",
       "        vertical-align: middle;\n",
       "    }\n",
       "\n",
       "    .dataframe tbody tr th {\n",
       "        vertical-align: top;\n",
       "    }\n",
       "\n",
       "    .dataframe thead th {\n",
       "        text-align: right;\n",
       "    }\n",
       "</style>\n",
       "<table border=\"1\" class=\"dataframe\">\n",
       "  <thead>\n",
       "    <tr style=\"text-align: right;\">\n",
       "      <th></th>\n",
       "      <th>Y2015</th>\n",
       "    </tr>\n",
       "  </thead>\n",
       "  <tbody>\n",
       "    <tr>\n",
       "      <th>mean</th>\n",
       "      <td>135.235966</td>\n",
       "    </tr>\n",
       "    <tr>\n",
       "      <th>std</th>\n",
       "      <td>1603.403984</td>\n",
       "    </tr>\n",
       "  </tbody>\n",
       "</table>\n",
       "</div>"
      ],
      "text/plain": [
       "            Y2015\n",
       "mean   135.235966\n",
       "std   1603.403984"
      ]
     },
     "execution_count": 5,
     "metadata": {},
     "output_type": "execute_result"
    }
   ],
   "source": [
    "df.describe().loc[['mean', 'std'], ['Y2015']]"
   ]
  },
  {
   "cell_type": "markdown",
   "id": "tropical-speech",
   "metadata": {},
   "source": [
    "What is the total number and percentage of missing data in 2016 to 2 decimal places?"
   ]
  },
  {
   "cell_type": "code",
   "execution_count": 6,
   "id": "exciting-candidate",
   "metadata": {},
   "outputs": [
    {
     "name": "stdout",
     "output_type": "stream",
     "text": [
      "1535 0.20160231153138955\n"
     ]
    }
   ],
   "source": [
    "total_missing = df.isnull().sum().sum()\n",
    "print(df.isnull().sum()['Y2016'],\n",
    "      df.isnull().sum()['Y2016']/total_missing)"
   ]
  },
  {
   "cell_type": "markdown",
   "id": "relevant-creek",
   "metadata": {},
   "source": [
    "Which year had the highest correlation with ‘Element Code’? "
   ]
  },
  {
   "cell_type": "code",
   "execution_count": 7,
   "id": "elect-sunglasses",
   "metadata": {
    "scrolled": true
   },
   "outputs": [
    {
     "data": {
      "text/plain": [
       "Y2016    0.023444\n",
       "Y2015    0.023889\n",
       "Y2017    0.024254\n",
       "Y2018    0.024279\n",
       "Y2014    0.024457\n",
       "Name: Element Code, dtype: float64"
      ]
     },
     "execution_count": 7,
     "metadata": {},
     "output_type": "execute_result"
    }
   ],
   "source": [
    "df.corr().loc['Element Code', ['Y2014','Y2015',\n",
    "                              'Y2016','Y2017',\n",
    "                              'Y2018']].sort_values()"
   ]
  },
  {
   "cell_type": "markdown",
   "id": "olive-court",
   "metadata": {},
   "source": [
    "What is the total number of the sum of Production in 2014?\n",
    "\n",
    "Hint- Perform a groupby operation on ‘Element’ and use the resulting Dataframe to answer the question"
   ]
  },
  {
   "cell_type": "code",
   "execution_count": 8,
   "id": "lasting-darwin",
   "metadata": {
    "scrolled": false
   },
   "outputs": [
    {
     "data": {
      "text/plain": [
       "Y2014    1931287.75\n",
       "Y2015    1947019.39\n",
       "Y2016    1943537.15\n",
       "Y2017    2030056.89\n",
       "Y2018    2075072.89\n",
       "Name: Production, dtype: float64"
      ]
     },
     "execution_count": 8,
     "metadata": {},
     "output_type": "execute_result"
    }
   ],
   "source": [
    "df.groupby('Element').sum().loc['Production', ['Y2014','Y2015',\n",
    "                                              'Y2016','Y2017',\n",
    "                                              'Y2018']]"
   ]
  },
  {
   "cell_type": "markdown",
   "id": "utility-tunisia",
   "metadata": {},
   "source": [
    "\n",
    "What year has the highest sum of Import Quantity?\n",
    "\n",
    "Hint- Perform a groupby operation on ‘Element’ and use the resulting Dataframe to answer the question\n"
   ]
  },
  {
   "cell_type": "code",
   "execution_count": 9,
   "id": "inside-voluntary",
   "metadata": {
    "scrolled": true
   },
   "outputs": [
    {
     "data": {
      "text/plain": [
       "Y2014    274144.48\n",
       "Y2015    267018.46\n",
       "Y2016    286582.78\n",
       "Y2017    294559.09\n",
       "Y2018    287997.09\n",
       "Name: Import Quantity, dtype: float64"
      ]
     },
     "execution_count": 9,
     "metadata": {},
     "output_type": "execute_result"
    }
   ],
   "source": [
    "df.groupby('Element').sum().loc['Import Quantity', ['Y2014','Y2015',\n",
    "                                                      'Y2016','Y2017',\n",
    "                                                      'Y2018']]"
   ]
  },
  {
   "cell_type": "markdown",
   "id": "breeding-boring",
   "metadata": {},
   "source": [
    "Which of these elements had the highest sum in 2018?\n",
    "\n",
    "Hint-  Select columns ‘Y2018’ and ‘Element’, Perform a groupby operation on ‘Element’ on the selected dataframe and answer the \n"
   ]
  },
  {
   "cell_type": "code",
   "execution_count": 10,
   "id": "large-sequence",
   "metadata": {
    "scrolled": false
   },
   "outputs": [
    {
     "data": {
      "text/plain": [
       "Element\n",
       "Tourist consumption                            90.00\n",
       "Fat supply quantity (g/capita/day)          10258.69\n",
       "Protein supply quantity (g/capita/day)      11833.56\n",
       "Stock Variation                             20577.91\n",
       "Seed                                        25263.14\n",
       "Residuals                                   34864.00\n",
       "Food supply quantity (kg/capita/yr)         49056.85\n",
       "Other uses (non-food)                       91300.97\n",
       "Losses                                     163902.00\n",
       "Export Quantity                            181594.80\n",
       "Feed                                       233489.68\n",
       "Import Quantity                            287997.09\n",
       "Processing                                 308429.00\n",
       "Food supply (kcal/capita/day)              455261.00\n",
       "Total Population - Both sexes             1140605.00\n",
       "Food                                      1303841.28\n",
       "Production                                2075072.89\n",
       "Domestic supply quantity                  2161192.10\n",
       "Name: Y2018, dtype: float64"
      ]
     },
     "execution_count": 10,
     "metadata": {},
     "output_type": "execute_result"
    }
   ],
   "source": [
    "df.groupby('Element')['Y2018'].sum().sort_values()"
   ]
  },
  {
   "cell_type": "markdown",
   "id": "opposite-peninsula",
   "metadata": {},
   "source": [
    "What is the total Import Quantity in Algeria in 2018?\n",
    "\n",
    "Hint-  Select columns ‘Y2018’ and ‘Element’, Perform a groupby operation on ‘Element’ on the selected dataframe and answer the  question.  "
   ]
  },
  {
   "cell_type": "code",
   "execution_count": 11,
   "id": "lucky-aerospace",
   "metadata": {
    "scrolled": true
   },
   "outputs": [
    {
     "data": {
      "text/plain": [
       "Area     Element                               \n",
       "Algeria  Domestic supply quantity                  90023.42\n",
       "         Export Quantity                             811.54\n",
       "         Fat supply quantity (g/capita/day)          309.09\n",
       "         Feed                                      10668.00\n",
       "         Food                                      63736.33\n",
       "         Food supply (kcal/capita/day)             13288.00\n",
       "         Food supply quantity (kg/capita/yr)        1509.28\n",
       "         Import Quantity                           36238.29\n",
       "         Losses                                     7708.00\n",
       "         Other uses (non-food)                      3970.08\n",
       "         Processing                                 2479.00\n",
       "         Production                                60766.67\n",
       "         Protein supply quantity (g/capita/day)      367.28\n",
       "         Residuals                                   630.00\n",
       "         Seed                                        825.00\n",
       "         Stock Variation                            6172.00\n",
       "         Total Population - Both sexes             42228.00\n",
       "Name: Y2018, dtype: float64"
      ]
     },
     "execution_count": 11,
     "metadata": {},
     "output_type": "execute_result"
    }
   ],
   "source": [
    "df.groupby(['Area','Element'])['Y2018'].sum().loc['Algeria',:]"
   ]
  },
  {
   "cell_type": "markdown",
   "id": "disciplinary-treaty",
   "metadata": {},
   "source": [
    "What is the total number of unique countries in the dataset?"
   ]
  },
  {
   "cell_type": "code",
   "execution_count": 12,
   "id": "planned-attraction",
   "metadata": {},
   "outputs": [
    {
     "data": {
      "text/plain": [
       "49"
      ]
     },
     "execution_count": 12,
     "metadata": {},
     "output_type": "execute_result"
    }
   ],
   "source": [
    "df.Area.nunique()"
   ]
  },
  {
   "cell_type": "code",
   "execution_count": null,
   "id": "domestic-happiness",
   "metadata": {},
   "outputs": [],
   "source": []
  }
 ],
 "metadata": {
  "kernelspec": {
   "display_name": "Python 3",
   "language": "python",
   "name": "python3"
  },
  "language_info": {
   "codemirror_mode": {
    "name": "ipython",
    "version": 3
   },
   "file_extension": ".py",
   "mimetype": "text/x-python",
   "name": "python",
   "nbconvert_exporter": "python",
   "pygments_lexer": "ipython3",
   "version": "3.9.1"
  }
 },
 "nbformat": 4,
 "nbformat_minor": 5
}
